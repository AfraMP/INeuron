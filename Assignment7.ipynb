{
 "cells": [
  {
   "cell_type": "code",
   "execution_count": 8,
   "metadata": {},
   "outputs": [
    {
     "name": "stdout",
     "output_type": "stream",
     "text": [
      "Enter the number of elements in input vector 4\n",
      "Enter element 1 : 2\n",
      "Enter element 2 : 3\n",
      "Enter element 3 : 5\n",
      "Enter element 4 : 1\n",
      "[[  8   4   2   1]\n",
      " [ 27   9   3   1]\n",
      " [125  25   5   1]\n",
      " [  1   1   1   1]]\n"
     ]
    }
   ],
   "source": [
    "# Question 1 : Columns of output matrix are powers of the input vector : Alexandre-Theophile Vandermonde. \n",
    "\n",
    "import numpy as np\n",
    "def vander(m, N=None , increasing=False):\n",
    "    if N == None:\n",
    "        N = len(m)\n",
    "    a=np.zeros((N,N),dtype='int')\n",
    "    for i in range(N):\n",
    "        for j in range(0,N):\n",
    "            if increasing == False:\n",
    "                a[i][j] = m[i]**(N-j-1)\n",
    "            else:\n",
    "                a[i][j] = m[i]**(j)\n",
    "    return a\n",
    "inputVector = []\n",
    "for i in range(int(input('Enter the number of elements in input vector '))):\n",
    "    inputVector.append(int(input('Enter element {} : '.format(i+1))))\n",
    "\n",
    "print(vander(inputVector))"
   ]
  },
  {
   "cell_type": "code",
   "execution_count": 9,
   "metadata": {},
   "outputs": [
    {
     "name": "stdout",
     "output_type": "stream",
     "text": [
      "  i   1  2  3  4  5  6  7  8  9  10  11  12  13  \n",
      "====  == == == == == == == == == ==\n",
      "Input 3 5 7 2 8 10 11 65 72 81 99 100 150 \n",
      "y1   5 = ( 3 + 5 + 7 ) / 3\n",
      "y2   4 = ( 5 + 7 + 2 ) / 3\n",
      "y3   5 = ( 7 + 2 + 8 ) / 3\n",
      "y4   6 = ( 2 + 8 + 10 ) / 3\n",
      "y5   9 = ( 8 + 10 + 11 ) / 3\n",
      "y6   28 = ( 10 + 11 + 65 ) / 3\n",
      "y7   49 = ( 11 + 65 + 72 ) / 3\n",
      "y8   72 = ( 65 + 72 + 81 ) / 3\n",
      "y9   84 = ( 72 + 81 + 99 ) / 3\n",
      "y10   93 = ( 81 + 99 + 100 ) / 3\n",
      "y11   116 = ( 99 + 100 + 150 ) / 3"
     ]
    }
   ],
   "source": [
    "# Question 2 : moving average in an array over a window\n",
    "\n",
    "k = 3\n",
    "inputValue = [3, 5, 7, 2, 8, 10, 11, 65, 72, 81, 99, 100, 150]\n",
    "n = len(inputValue)\n",
    "def  movingAverage(n, k, inputValue):\n",
    "    movingAvgSeqVal = n - k + 1\n",
    "    y = []\n",
    "    print('  i  ', end=' ')\n",
    "    for j in range(1, n+1):\n",
    "        print(j,end='  ')\n",
    "    print()\n",
    "    print('====',' =='*10)\n",
    "    print('Input',end=' ')\n",
    "    for j in inputValue:\n",
    "        print(j,end=' ')\n",
    "    for i in range(movingAvgSeqVal):\n",
    "        y.append(int(np.sum(inputValue[i:k+i]) / k))\n",
    "        print('\\ny{}'.format(i+1), ' ', int(np.sum(inputValue[i:k+i]) / k), '= (', inputValue[i], '+', inputValue[i+1], '+',inputValue[k+i-1], ')', '/', k,end='')\n",
    "movingAverage(n, k, inputValue)"
   ]
  },
  {
   "cell_type": "code",
   "execution_count": null,
   "metadata": {},
   "outputs": [],
   "source": []
  }
 ],
 "metadata": {
  "kernelspec": {
   "display_name": "Python 3",
   "language": "python",
   "name": "python3"
  },
  "language_info": {
   "codemirror_mode": {
    "name": "ipython",
    "version": 3
   },
   "file_extension": ".py",
   "mimetype": "text/x-python",
   "name": "python",
   "nbconvert_exporter": "python",
   "pygments_lexer": "ipython3",
   "version": "3.7.3"
  }
 },
 "nbformat": 4,
 "nbformat_minor": 2
}
