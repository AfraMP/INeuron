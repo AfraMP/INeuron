{
 "cells": [
  {
   "cell_type": "code",
   "execution_count": 34,
   "metadata": {},
   "outputs": [
    {
     "data": {
      "text/plain": [
       "31"
      ]
     },
     "execution_count": 34,
     "metadata": {},
     "output_type": "execute_result"
    }
   ],
   "source": [
    "# Question 1 : myreduce() function\n",
    "\n",
    "def myreduce(function_name, iterable, initial_value = None):\n",
    "    if(type(iterable) != int and type(iterable != float)):\n",
    "        iterable = list(iterable)\n",
    "        if initial_value == None:\n",
    "            a = iterable[0]\n",
    "        else:\n",
    "            a = initial_value + iterable[0]\n",
    "        for i in range(len(iterable)-1):\n",
    "            a = function_name(a,iterable[i+1])\n",
    "        return a\n",
    "    else:\n",
    "        print(\"reduce() arg 2 must support iteration\")\n",
    "m = lambda x, y: x + y\n",
    "myreduce(m, [12, 4, 6, 8],1)"
   ]
  },
  {
   "cell_type": "code",
   "execution_count": 23,
   "metadata": {},
   "outputs": [
    {
     "data": {
      "text/plain": [
       "['document']"
      ]
     },
     "execution_count": 23,
     "metadata": {},
     "output_type": "execute_result"
    }
   ],
   "source": [
    "# Question 2 : myfilter() function\n",
    "\n",
    "def myfilter(function_name, iterable):\n",
    "    lst = []\n",
    "    for i in iterable:\n",
    "        result = function_name(i)\n",
    "        if(result == True):\n",
    "            lst.append(i)\n",
    "    return lst\n",
    "            \n",
    "list(myfilter(lambda x :x == 'document', ['object','document']))"
   ]
  },
  {
   "cell_type": "code",
   "execution_count": 160,
   "metadata": {},
   "outputs": [
    {
     "name": "stdout",
     "output_type": "stream",
     "text": [
      "['x', 'xx', 'xxx', 'xxxx', 'y', 'yy', 'yyy', 'yyyy', 'z', 'zz', 'zzz', 'zzzz']\n",
      "['x', 'y', 'z', 'xx', 'yy', 'zz', 'xxx', 'yyy', 'zzz', 'xxxx', 'yyyy', 'zzzz']\n",
      "[[2], [3], [4], [3], [4], [5], [4], [5], [6]]\n",
      "[[2, 3, 4, 5], [3, 4, 5, 6], [4, 5, 6, 7], [5, 6, 7, 8]]\n",
      "[(1, 1), (2, 1), (3, 1), (1, 2), (2, 2), (3, 2), (1, 3), (2, 3), (3, 3)]\n"
     ]
    }
   ],
   "source": [
    "# Question 3 : List Comprehension\n",
    "\n",
    "# (i)\n",
    "num = 4\n",
    "print([ 'x' * i if i < num + 1 else 'y' * (i - num) if i < num * 2 + 1 else 'z' * (i - num * 2) for i in range(1, num * 3 + 1)])\n",
    "\n",
    "# (ii)\n",
    "print([item for i in [['x' * i,'y' * i, 'z' * i] for i in range(1, 5)] for item in i])\n",
    "\n",
    "# (iii)\n",
    "print([item for i in [[[i], [i + 1], [i + 2]] for i in range(2, 5)] for item in i])\n",
    "\n",
    "# (iv)\n",
    "print([[i, i + 1, i + 2, i + 3] for i in range(2, 6)])\n",
    "\n",
    "# (v)\n",
    "print([(j, i) for i in range(1, 4) for j in range(1, 4)])"
   ]
  }
 ],
 "metadata": {
  "kernelspec": {
   "display_name": "Python 3",
   "language": "python",
   "name": "python3"
  },
  "language_info": {
   "codemirror_mode": {
    "name": "ipython",
    "version": 3
   },
   "file_extension": ".py",
   "mimetype": "text/x-python",
   "name": "python",
   "nbconvert_exporter": "python",
   "pygments_lexer": "ipython3",
   "version": "3.7.3"
  }
 },
 "nbformat": 4,
 "nbformat_minor": 2
}
