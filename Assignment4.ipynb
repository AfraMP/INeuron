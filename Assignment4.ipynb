{
 "cells": [
  {
   "cell_type": "code",
   "execution_count": 15,
   "metadata": {},
   "outputs": [
    {
     "data": {
      "text/plain": [
       "'Area Of Triangle is : 32.863353'"
      ]
     },
     "execution_count": 15,
     "metadata": {},
     "output_type": "execute_result"
    }
   ],
   "source": [
    "# Question 1.1 : Area Of Triangle\n",
    "\n",
    "class SidesOfTriangle:\n",
    "    def __init__(self, a, b, c):\n",
    "        self.a = a\n",
    "        self.b = b\n",
    "        self.c = c\n",
    "    def CalculateSide(self):\n",
    "        return (self.a + self.b + self.c) / 2\n",
    "        \n",
    "class AreaOfTriangle(SidesOfTriangle):\n",
    "    def __init__(self, *args):\n",
    "        super(AreaOfTriangle, self).__init__(*args)\n",
    "    def CalculateArea(self):\n",
    "        s = self.CalculateSide()\n",
    "        return \"Area Of Triangle is : %f\" % ((s * (s - self.a) * (s - self.b) * (s - self.c)) ** 0.5)\n",
    "    \n",
    "triangle_area = AreaOfTriangle(6,11,13)\n",
    "triangle_area.CalculateArea()"
   ]
  },
  {
   "cell_type": "code",
   "execution_count": 16,
   "metadata": {},
   "outputs": [
    {
     "data": {
      "text/plain": [
       "['william', 'bernard']"
      ]
     },
     "execution_count": 16,
     "metadata": {},
     "output_type": "execute_result"
    }
   ],
   "source": [
    "# Question 1.2 : Filter long words\n",
    "\n",
    "class filter:\n",
    "    def filter_long_words(self, list_of_words, n):\n",
    "        filtered_words = [i for i in list_of_words if len(i) > n] \n",
    "        return filtered_words\n",
    "filter_words = filter()\n",
    "filter_words.filter_long_words(['sam', 'william', 'bernard'], 4)"
   ]
  },
  {
   "cell_type": "code",
   "execution_count": 17,
   "metadata": {},
   "outputs": [
    {
     "data": {
      "text/plain": [
       "[4, 6, 11, 7]"
      ]
     },
     "execution_count": 17,
     "metadata": {},
     "output_type": "execute_result"
    }
   ],
   "source": [
    "# Question 2.1 : Length of each word in a list \n",
    "\n",
    "def no_of_letters(word):\n",
    "    return len(word)\n",
    "a = list(map(no_of_letters, ['john', 'samuel', 'shakespeare', 'johnson']))\n",
    "a"
   ]
  },
  {
   "cell_type": "code",
   "execution_count": 19,
   "metadata": {},
   "outputs": [
    {
     "name": "stdout",
     "output_type": "stream",
     "text": [
      "Enter a letter : a\n"
     ]
    },
    {
     "data": {
      "text/plain": [
       "True"
      ]
     },
     "execution_count": 19,
     "metadata": {},
     "output_type": "execute_result"
    }
   ],
   "source": [
    "# Question 2.2 : Check whether a letter is vowel\n",
    "\n",
    "def is_vowel(letter):\n",
    "    if(len(letter) == 1):\n",
    "        vowels = ['a', 'e', 'i', 'o', 'u']\n",
    "        for i in vowels:\n",
    "            if i == letter:\n",
    "                return True\n",
    "        return False\n",
    "    else:\n",
    "        print(\"Enter only one letter\")\n",
    "is_vowel(input(\"Enter a letter : \"))"
   ]
  }
 ],
 "metadata": {
  "kernelspec": {
   "display_name": "Python 3",
   "language": "python",
   "name": "python3"
  }
 },
 "nbformat": 4,
 "nbformat_minor": 2
}
